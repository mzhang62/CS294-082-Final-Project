{
  "nbformat": 4,
  "nbformat_minor": 0,
  "metadata": {
    "colab": {
      "name": "MEC and Progression Curve.ipynb",
      "provenance": []
    },
    "kernelspec": {
      "name": "python3",
      "display_name": "Python 3"
    },
    "language_info": {
      "name": "python"
    }
  },
  "cells": [
    {
      "cell_type": "markdown",
      "source": [
        "# CS294-082 Project Notebook\n",
        "Referred to [Gerald's Chapter 9](https://piazza.com/redirect/s3?bucket=uploads&prefix=paste%2Fjeqdgp7ec8fv4%2Fbb8d09923f28f8df1326688d66f267909167aa329fce3b0f33616c54e562338e%2FInformation_View_on_Data_Science.pdf) for dataset MEC and progression curve algorithms.\n",
        "Github repo: https://github.com/mzhang62/CS294-082-Final-Project"
      ],
      "metadata": {
        "id": "Ulhg8vS3ccXL"
      }
    },
    {
      "cell_type": "code",
      "execution_count": 9,
      "metadata": {
        "id": "vHmrXYo8cVz4"
      },
      "outputs": [],
      "source": [
        "import os\n",
        "import pandas as pd\n",
        "import numpy as np\n",
        "import seaborn as sns\n",
        "import matplotlib.pyplot as plt\n",
        "sns.set_style(\"darkgrid\")\n",
        "sns.set(rc = {'figure.figsize':(12,8)})"
      ]
    },
    {
      "cell_type": "code",
      "source": [
        "# Clone the entire repo.\n",
        "!git clone -s git://github.com/mzhang62/CS294-082-Final-Project.git cloned-repo\n",
        "%cd cloned-repo\n",
        "!ls"
      ],
      "metadata": {
        "colab": {
          "base_uri": "https://localhost:8080/"
        },
        "id": "WEQV1pNXcq-H",
        "outputId": "1ed48fa8-fef4-493c-f9e0-e23b60eb7098"
      },
      "execution_count": 2,
      "outputs": [
        {
          "output_type": "stream",
          "name": "stdout",
          "text": [
            "Cloning into 'cloned-repo'...\n",
            "remote: Enumerating objects: 17, done.\u001b[K\n",
            "remote: Counting objects:   5% (1/17)\u001b[K\rremote: Counting objects:  11% (2/17)\u001b[K\rremote: Counting objects:  17% (3/17)\u001b[K\rremote: Counting objects:  23% (4/17)\u001b[K\rremote: Counting objects:  29% (5/17)\u001b[K\rremote: Counting objects:  35% (6/17)\u001b[K\rremote: Counting objects:  41% (7/17)\u001b[K\rremote: Counting objects:  47% (8/17)\u001b[K\rremote: Counting objects:  52% (9/17)\u001b[K\rremote: Counting objects:  58% (10/17)\u001b[K\rremote: Counting objects:  64% (11/17)\u001b[K\rremote: Counting objects:  70% (12/17)\u001b[K\rremote: Counting objects:  76% (13/17)\u001b[K\rremote: Counting objects:  82% (14/17)\u001b[K\rremote: Counting objects:  88% (15/17)\u001b[K\rremote: Counting objects:  94% (16/17)\u001b[K\rremote: Counting objects: 100% (17/17)\u001b[K\rremote: Counting objects: 100% (17/17), done.\u001b[K\n",
            "remote: Compressing objects: 100% (14/14), done.\u001b[K\n",
            "remote: Total 17 (delta 4), reused 12 (delta 2), pack-reused 0\u001b[K\n",
            "Receiving objects: 100% (17/17), 6.77 MiB | 18.29 MiB/s, done.\n",
            "Resolving deltas: 100% (4/4), done.\n",
            "/content/cloned-repo\n",
            " balanced_df_with_default_labels.csv   traning_data_mec.csv\n",
            "'CS294-082 Project Notebook.ipynb'     transformer_data_with_label.csv\n",
            " README.md\n"
          ]
        }
      ]
    },
    {
      "cell_type": "markdown",
      "source": [
        "## Utils for calculating the dataset MEC"
      ],
      "metadata": {
        "id": "4_oKCUtXhePn"
      }
    },
    {
      "cell_type": "code",
      "source": [
        "feature_cols = 256\n",
        "# input: dataframe contains labels and thresholds, sorted by descending thresholds\n",
        "# output: a dictionary with key as labels, value as sums of feature values\n",
        "# def: iterate through the labels, increment corresponding label's threshold by 1 whenever the label changes\n",
        "def generate_MEC_dict(df):\n",
        "    current_class = -1\n",
        "    # generate an empty dictionary from df, with default value as 0\n",
        "    mec_dict = dict.fromkeys(df['label'], 0)\n",
        "    # increment dict value by 1 whenever the class changes\n",
        "    for index, row in df.iterrows():\n",
        "        if(row['label'] != current_class):\n",
        "            mec_dict[row['label']] += 1\n",
        "            current_class = row['label']\n",
        "    return mec_dict\n",
        "\n",
        "# input: dataframe with labels, thresholds, and label occurrences\n",
        "# output: print out the dataset MEC\n",
        "# using the formula to calculate MEC: sum(1/pi * log_2(threshold+1)), for all i classes\n",
        "def calculate_MEC(df):\n",
        "    mec = 0\n",
        "    total = df['counts'].sum()\n",
        "    for index, row in df.iterrows():\n",
        "        percentage = row['counts'] / total\n",
        "        # DEPRECATED FUNCTION\n",
        "        # mec += (1 / percentage) * np.log2(row['threshold'] + 1)\n",
        "        # NEW FUNCTION FOR MEC  \n",
        "        mec += np.log2(row['threshold'] + 1) * feature_cols\n",
        "    print('The total MEC of the dataset is: ', mec)\n",
        "    return mec\n",
        "\n",
        "# input: dataframe with all the features, labels (labels in the last column)\n",
        "# output: print out the dataset MEC\n",
        "# dataframe manipulation, and calculate the MEC of the dataset\n",
        "def calc_dataset_MEC(df):\n",
        "    # extract the preceding feature columns\n",
        "    cols = df.columns[:feature_cols]\n",
        "    # added a new column of the sum of features for each instance\n",
        "    df['sums'] = df[cols].sum(axis=1)\n",
        "    # count the occurrence for each lable\n",
        "    df['counts'] = df.groupby(['label'])['label'].transform('count')\n",
        "    count_df = df[['label', 'counts']]\n",
        "    count_df = count_df.drop_duplicates(subset=['label']).reset_index(drop=True)\n",
        "    # generate the mec df with descending feature sums \n",
        "    # last three columns label, sum, count\n",
        "    # sort by descending feature value sums\n",
        "    mec_df = df.sort_values('sums', ascending=False).iloc[:, -3:].reset_index(drop=True)\n",
        "    # produce the threshold dict for calculating MEC\n",
        "    mec_dict = generate_MEC_dict(mec_df)\n",
        "    # convert the dict into dataframe\n",
        "    threshold_df = pd.DataFrame(mec_dict.items(), columns=['label', 'threshold'])\n",
        "    threshold_df = threshold_df.merge(count_df, on='label').sort_values(by=['counts'], ascending=False).reset_index(drop=True)\n",
        "    return calculate_MEC(threshold_df)"
      ],
      "metadata": {
        "id": "9Zh2UrmAhfbp"
      },
      "execution_count": 3,
      "outputs": []
    },
    {
      "cell_type": "markdown",
      "source": [
        "## MEC of the original dataset"
      ],
      "metadata": {
        "id": "JKZnM4z0hljG"
      }
    },
    {
      "cell_type": "code",
      "source": [
        "data_with_label_df = pd.read_csv(\"transformer_data_with_label.csv\")\n",
        "calc_dataset_MEC(data_with_label_df);"
      ],
      "metadata": {
        "colab": {
          "base_uri": "https://localhost:8080/"
        },
        "id": "Vi-HifHchmCL",
        "outputId": "e944e3c7-5d26-43f9-d3f5-23c277efecc8"
      },
      "execution_count": 4,
      "outputs": [
        {
          "output_type": "stream",
          "name": "stdout",
          "text": [
            "The total MEC of the dataset is:  160453.1583270134\n"
          ]
        }
      ]
    },
    {
      "cell_type": "markdown",
      "source": [
        "## MEC of the balanced dataset \n",
        "### Only contains classes with more than 100 instances"
      ],
      "metadata": {
        "id": "YpgEDlfAhtWG"
      }
    },
    {
      "cell_type": "code",
      "source": [
        "balanced_df = pd.read_csv('balanced_df_with_default_labels.csv')\n",
        "calc_dataset_MEC(balanced_df);"
      ],
      "metadata": {
        "colab": {
          "base_uri": "https://localhost:8080/"
        },
        "id": "D_dTfFAfhtnP",
        "outputId": "937dec88-35ee-4943-b6bc-8531add319ba"
      },
      "execution_count": 5,
      "outputs": [
        {
          "output_type": "stream",
          "name": "stdout",
          "text": [
            "The total MEC of the dataset is:  40400.199444830556\n"
          ]
        }
      ]
    },
    {
      "cell_type": "markdown",
      "source": [
        "## MEC of the training dataset"
      ],
      "metadata": {
        "id": "C9yEVT1rTfzt"
      }
    },
    {
      "cell_type": "code",
      "source": [
        "training_df = pd.read_csv('traning_data_mec.csv')\n",
        "calc_dataset_MEC(training_df)"
      ],
      "metadata": {
        "colab": {
          "base_uri": "https://localhost:8080/"
        },
        "id": "_vIb6sbPTrZv",
        "outputId": "d77fb54d-b4a1-4059-e939-e1358c8a1280"
      },
      "execution_count": 6,
      "outputs": [
        {
          "output_type": "stream",
          "name": "stdout",
          "text": [
            "The total MEC of the dataset is:  33070.17147091285\n"
          ]
        },
        {
          "output_type": "execute_result",
          "data": {
            "text/plain": [
              "33070.17147091285"
            ]
          },
          "metadata": {},
          "execution_count": 6
        }
      ]
    },
    {
      "cell_type": "markdown",
      "source": [
        "## Capacity Progression Curve"
      ],
      "metadata": {
        "id": "Oge2UXBehzHD"
      }
    },
    {
      "cell_type": "code",
      "source": [
        "# input: dataframe with features and label (same as mec df)\n",
        "# output: dataframe containing mec values for different % of training data\n",
        "# algorithm 2: sample training data from 5 to 100 percent (step 5) and generate the df \n",
        "def progression_curve(df):\n",
        "    pcurve_df = pd.DataFrame(columns = ['size', 'mec'])\n",
        "    sizes = [i for i in np.arange(5,101,5)]\n",
        "#     sizes = [5,10,20,40,80,100]\n",
        "    # sample the dataset and calculate its MEC\n",
        "    for size in sizes:\n",
        "        current_df = df.sample(frac=size/100)\n",
        "        current_mec = calc_dataset_MEC(current_df)\n",
        "        pcurve_df = pcurve_df.append({'size' : size, 'mec' : current_mec},\n",
        "               ignore_index = True)\n",
        "    return pcurve_df\n",
        "# pcurve_df = progression_curve(balanced_df)\n",
        "# pcurve_df = progression_curve(data_with_label_df)\n",
        "pcurve_df = progression_curve(training_df)\n",
        "pcurve_df"
      ],
      "metadata": {
        "colab": {
          "base_uri": "https://localhost:8080/",
          "height": 1000
        },
        "id": "Fz-qL-SzhxE5",
        "outputId": "6697c51c-2115-4063-ed4f-019b1526c992"
      },
      "execution_count": 7,
      "outputs": [
        {
          "output_type": "stream",
          "name": "stdout",
          "text": [
            "The total MEC of the dataset is:  12764.046339668048\n",
            "The total MEC of the dataset is:  17407.261158911573\n",
            "The total MEC of the dataset is:  19963.65319340767\n",
            "The total MEC of the dataset is:  21542.514512276157\n",
            "The total MEC of the dataset is:  23428.144780301536\n",
            "The total MEC of the dataset is:  24651.458611379585\n",
            "The total MEC of the dataset is:  25449.510080748467\n",
            "The total MEC of the dataset is:  26588.931363329266\n",
            "The total MEC of the dataset is:  27835.4762136017\n",
            "The total MEC of the dataset is:  28068.970671017403\n",
            "The total MEC of the dataset is:  29006.448656900222\n",
            "The total MEC of the dataset is:  29426.953647059294\n",
            "The total MEC of the dataset is:  29940.169481700254\n",
            "The total MEC of the dataset is:  30566.779921668727\n",
            "The total MEC of the dataset is:  31236.697597987742\n",
            "The total MEC of the dataset is:  31550.169045701\n",
            "The total MEC of the dataset is:  31999.733190876224\n",
            "The total MEC of the dataset is:  32337.789605037688\n",
            "The total MEC of the dataset is:  32704.617052909845\n",
            "The total MEC of the dataset is:  33094.50187092329\n"
          ]
        },
        {
          "output_type": "execute_result",
          "data": {
            "text/html": [
              "\n",
              "  <div id=\"df-958f9e3c-c99c-40fe-a05e-e61d5358ea96\">\n",
              "    <div class=\"colab-df-container\">\n",
              "      <div>\n",
              "<style scoped>\n",
              "    .dataframe tbody tr th:only-of-type {\n",
              "        vertical-align: middle;\n",
              "    }\n",
              "\n",
              "    .dataframe tbody tr th {\n",
              "        vertical-align: top;\n",
              "    }\n",
              "\n",
              "    .dataframe thead th {\n",
              "        text-align: right;\n",
              "    }\n",
              "</style>\n",
              "<table border=\"1\" class=\"dataframe\">\n",
              "  <thead>\n",
              "    <tr style=\"text-align: right;\">\n",
              "      <th></th>\n",
              "      <th>size</th>\n",
              "      <th>mec</th>\n",
              "    </tr>\n",
              "  </thead>\n",
              "  <tbody>\n",
              "    <tr>\n",
              "      <th>0</th>\n",
              "      <td>5.0</td>\n",
              "      <td>12764.046340</td>\n",
              "    </tr>\n",
              "    <tr>\n",
              "      <th>1</th>\n",
              "      <td>10.0</td>\n",
              "      <td>17407.261159</td>\n",
              "    </tr>\n",
              "    <tr>\n",
              "      <th>2</th>\n",
              "      <td>15.0</td>\n",
              "      <td>19963.653193</td>\n",
              "    </tr>\n",
              "    <tr>\n",
              "      <th>3</th>\n",
              "      <td>20.0</td>\n",
              "      <td>21542.514512</td>\n",
              "    </tr>\n",
              "    <tr>\n",
              "      <th>4</th>\n",
              "      <td>25.0</td>\n",
              "      <td>23428.144780</td>\n",
              "    </tr>\n",
              "    <tr>\n",
              "      <th>5</th>\n",
              "      <td>30.0</td>\n",
              "      <td>24651.458611</td>\n",
              "    </tr>\n",
              "    <tr>\n",
              "      <th>6</th>\n",
              "      <td>35.0</td>\n",
              "      <td>25449.510081</td>\n",
              "    </tr>\n",
              "    <tr>\n",
              "      <th>7</th>\n",
              "      <td>40.0</td>\n",
              "      <td>26588.931363</td>\n",
              "    </tr>\n",
              "    <tr>\n",
              "      <th>8</th>\n",
              "      <td>45.0</td>\n",
              "      <td>27835.476214</td>\n",
              "    </tr>\n",
              "    <tr>\n",
              "      <th>9</th>\n",
              "      <td>50.0</td>\n",
              "      <td>28068.970671</td>\n",
              "    </tr>\n",
              "    <tr>\n",
              "      <th>10</th>\n",
              "      <td>55.0</td>\n",
              "      <td>29006.448657</td>\n",
              "    </tr>\n",
              "    <tr>\n",
              "      <th>11</th>\n",
              "      <td>60.0</td>\n",
              "      <td>29426.953647</td>\n",
              "    </tr>\n",
              "    <tr>\n",
              "      <th>12</th>\n",
              "      <td>65.0</td>\n",
              "      <td>29940.169482</td>\n",
              "    </tr>\n",
              "    <tr>\n",
              "      <th>13</th>\n",
              "      <td>70.0</td>\n",
              "      <td>30566.779922</td>\n",
              "    </tr>\n",
              "    <tr>\n",
              "      <th>14</th>\n",
              "      <td>75.0</td>\n",
              "      <td>31236.697598</td>\n",
              "    </tr>\n",
              "    <tr>\n",
              "      <th>15</th>\n",
              "      <td>80.0</td>\n",
              "      <td>31550.169046</td>\n",
              "    </tr>\n",
              "    <tr>\n",
              "      <th>16</th>\n",
              "      <td>85.0</td>\n",
              "      <td>31999.733191</td>\n",
              "    </tr>\n",
              "    <tr>\n",
              "      <th>17</th>\n",
              "      <td>90.0</td>\n",
              "      <td>32337.789605</td>\n",
              "    </tr>\n",
              "    <tr>\n",
              "      <th>18</th>\n",
              "      <td>95.0</td>\n",
              "      <td>32704.617053</td>\n",
              "    </tr>\n",
              "    <tr>\n",
              "      <th>19</th>\n",
              "      <td>100.0</td>\n",
              "      <td>33094.501871</td>\n",
              "    </tr>\n",
              "  </tbody>\n",
              "</table>\n",
              "</div>\n",
              "      <button class=\"colab-df-convert\" onclick=\"convertToInteractive('df-958f9e3c-c99c-40fe-a05e-e61d5358ea96')\"\n",
              "              title=\"Convert this dataframe to an interactive table.\"\n",
              "              style=\"display:none;\">\n",
              "        \n",
              "  <svg xmlns=\"http://www.w3.org/2000/svg\" height=\"24px\"viewBox=\"0 0 24 24\"\n",
              "       width=\"24px\">\n",
              "    <path d=\"M0 0h24v24H0V0z\" fill=\"none\"/>\n",
              "    <path d=\"M18.56 5.44l.94 2.06.94-2.06 2.06-.94-2.06-.94-.94-2.06-.94 2.06-2.06.94zm-11 1L8.5 8.5l.94-2.06 2.06-.94-2.06-.94L8.5 2.5l-.94 2.06-2.06.94zm10 10l.94 2.06.94-2.06 2.06-.94-2.06-.94-.94-2.06-.94 2.06-2.06.94z\"/><path d=\"M17.41 7.96l-1.37-1.37c-.4-.4-.92-.59-1.43-.59-.52 0-1.04.2-1.43.59L10.3 9.45l-7.72 7.72c-.78.78-.78 2.05 0 2.83L4 21.41c.39.39.9.59 1.41.59.51 0 1.02-.2 1.41-.59l7.78-7.78 2.81-2.81c.8-.78.8-2.07 0-2.86zM5.41 20L4 18.59l7.72-7.72 1.47 1.35L5.41 20z\"/>\n",
              "  </svg>\n",
              "      </button>\n",
              "      \n",
              "  <style>\n",
              "    .colab-df-container {\n",
              "      display:flex;\n",
              "      flex-wrap:wrap;\n",
              "      gap: 12px;\n",
              "    }\n",
              "\n",
              "    .colab-df-convert {\n",
              "      background-color: #E8F0FE;\n",
              "      border: none;\n",
              "      border-radius: 50%;\n",
              "      cursor: pointer;\n",
              "      display: none;\n",
              "      fill: #1967D2;\n",
              "      height: 32px;\n",
              "      padding: 0 0 0 0;\n",
              "      width: 32px;\n",
              "    }\n",
              "\n",
              "    .colab-df-convert:hover {\n",
              "      background-color: #E2EBFA;\n",
              "      box-shadow: 0px 1px 2px rgba(60, 64, 67, 0.3), 0px 1px 3px 1px rgba(60, 64, 67, 0.15);\n",
              "      fill: #174EA6;\n",
              "    }\n",
              "\n",
              "    [theme=dark] .colab-df-convert {\n",
              "      background-color: #3B4455;\n",
              "      fill: #D2E3FC;\n",
              "    }\n",
              "\n",
              "    [theme=dark] .colab-df-convert:hover {\n",
              "      background-color: #434B5C;\n",
              "      box-shadow: 0px 1px 3px 1px rgba(0, 0, 0, 0.15);\n",
              "      filter: drop-shadow(0px 1px 2px rgba(0, 0, 0, 0.3));\n",
              "      fill: #FFFFFF;\n",
              "    }\n",
              "  </style>\n",
              "\n",
              "      <script>\n",
              "        const buttonEl =\n",
              "          document.querySelector('#df-958f9e3c-c99c-40fe-a05e-e61d5358ea96 button.colab-df-convert');\n",
              "        buttonEl.style.display =\n",
              "          google.colab.kernel.accessAllowed ? 'block' : 'none';\n",
              "\n",
              "        async function convertToInteractive(key) {\n",
              "          const element = document.querySelector('#df-958f9e3c-c99c-40fe-a05e-e61d5358ea96');\n",
              "          const dataTable =\n",
              "            await google.colab.kernel.invokeFunction('convertToInteractive',\n",
              "                                                     [key], {});\n",
              "          if (!dataTable) return;\n",
              "\n",
              "          const docLinkHtml = 'Like what you see? Visit the ' +\n",
              "            '<a target=\"_blank\" href=https://colab.research.google.com/notebooks/data_table.ipynb>data table notebook</a>'\n",
              "            + ' to learn more about interactive tables.';\n",
              "          element.innerHTML = '';\n",
              "          dataTable['output_type'] = 'display_data';\n",
              "          await google.colab.output.renderOutput(dataTable, element);\n",
              "          const docLink = document.createElement('div');\n",
              "          docLink.innerHTML = docLinkHtml;\n",
              "          element.appendChild(docLink);\n",
              "        }\n",
              "      </script>\n",
              "    </div>\n",
              "  </div>\n",
              "  "
            ],
            "text/plain": [
              "     size           mec\n",
              "0     5.0  12764.046340\n",
              "1    10.0  17407.261159\n",
              "2    15.0  19963.653193\n",
              "3    20.0  21542.514512\n",
              "4    25.0  23428.144780\n",
              "5    30.0  24651.458611\n",
              "6    35.0  25449.510081\n",
              "7    40.0  26588.931363\n",
              "8    45.0  27835.476214\n",
              "9    50.0  28068.970671\n",
              "10   55.0  29006.448657\n",
              "11   60.0  29426.953647\n",
              "12   65.0  29940.169482\n",
              "13   70.0  30566.779922\n",
              "14   75.0  31236.697598\n",
              "15   80.0  31550.169046\n",
              "16   85.0  31999.733191\n",
              "17   90.0  32337.789605\n",
              "18   95.0  32704.617053\n",
              "19  100.0  33094.501871"
            ]
          },
          "metadata": {},
          "execution_count": 7
        }
      ]
    },
    {
      "cell_type": "code",
      "source": [
        "p = sns.lineplot(x='size', y='mec', data=pcurve_df, marker='o', markersize=8)\n",
        "p.set_xlabel(\"% of Training Data\", fontsize = 20)\n",
        "p.set_ylabel(\"MEC \", fontsize = 20)\n",
        "p.set_title(\"Expected Dataset MEC vs. % of Training Data\", size = 20);"
      ],
      "metadata": {
        "colab": {
          "base_uri": "https://localhost:8080/",
          "height": 529
        },
        "id": "3htBXBqRh3GB",
        "outputId": "86a95784-ce50-4b21-b788-3787f206abb0"
      },
      "execution_count": 10,
      "outputs": [
        {
          "output_type": "display_data",
          "data": {
            "image/png": "[encoded data removed]",
            "text/plain": [
              "<Figure size 864x576 with 1 Axes>"
            ]
          },
          "metadata": {}
        }
      ]
    },
    {
      "cell_type": "code",
      "source": [
        "pcurve_df.to_csv(\"testing.csv\")"
      ],
      "metadata": {
        "id": "biS1kSdbh6QD"
      },
      "execution_count": 8,
      "outputs": []
    }
  ]
}